{
 "cells": [
  {
   "cell_type": "markdown",
   "metadata": {
    "ExecuteTime": {
     "end_time": "2019-07-08T02:41:22.305709Z",
     "start_time": "2019-07-08T02:41:19.879Z"
    }
   },
   "source": [
    "# 分析①\n"
   ]
  },
  {
   "cell_type": "markdown",
   "metadata": {},
   "source": [
    "## データハンドリング入門：夏目漱石『夢十夜』の分析\n",
    "\n",
    "+ データハンドリング\n",
    "+ 単語の頻度の集計\n",
    "+ TF-IDF\n"
   ]
  },
  {
   "cell_type": "code",
   "execution_count": 1,
   "metadata": {},
   "outputs": [
    {
     "name": "stderr",
     "output_type": "stream",
     "text": [
      "\n",
      "Attaching package: 'dplyr'\n",
      "\n",
      "\n",
      "The following objects are masked from 'package:stats':\n",
      "\n",
      "    filter, lag\n",
      "\n",
      "\n",
      "The following objects are masked from 'package:base':\n",
      "\n",
      "    intersect, setdiff, setequal, union\n",
      "\n",
      "\n",
      "You need 64 bit version of MeCab for Winndows, with UTF8 dictionary\n",
      "Dowlnload it from 'https://github.com/ikegami-yukino/mecab/releases'\n",
      "\n"
     ]
    }
   ],
   "source": [
    "# ライブラリの読み込み\n",
    "library('dplyr')\n",
    "library('stringr')\n",
    "library('RMeCab')"
   ]
  },
  {
   "cell_type": "code",
   "execution_count": 2,
   "metadata": {},
   "outputs": [
    {
     "data": {
      "text/html": [
       "'C:/Users/satoc/Documents/GitHub/lecture2022shimane'"
      ],
      "text/latex": [
       "'C:/Users/satoc/Documents/GitHub/lecture2022shimane'"
      ],
      "text/markdown": [
       "'C:/Users/satoc/Documents/GitHub/lecture2022shimane'"
      ],
      "text/plain": [
       "[1] \"C:/Users/satoc/Documents/GitHub/lecture2022shimane\""
      ]
     },
     "metadata": {},
     "output_type": "display_data"
    }
   ],
   "source": [
    "getwd()"
   ]
  },
  {
   "cell_type": "code",
   "execution_count": 3,
   "metadata": {
    "ExecuteTime": {
     "end_time": "2019-07-08T02:41:22.795399Z",
     "start_time": "2019-07-08T02:41:20.350Z"
    }
   },
   "outputs": [],
   "source": [
    "yume = read.delim('data/textmining/yumejuya.tsv', header=T, sep='\\t', stringsAsFactors=F, fileEncoding='utf8')"
   ]
  },
  {
   "cell_type": "markdown",
   "metadata": {},
   "source": [
    "+ section: 第一夜から第十夜までが数字で\n",
    "+ paragraph: 各話の段落番号\n",
    "+ content: 本文\n"
   ]
  },
  {
   "cell_type": "code",
   "execution_count": 4,
   "metadata": {
    "ExecuteTime": {
     "end_time": "2019-07-08T02:41:22.902115Z",
     "start_time": "2019-07-08T02:41:20.508Z"
    }
   },
   "outputs": [
    {
     "data": {
      "text/html": [
       "<table class=\"dataframe\">\n",
       "<caption>A data.frame: 6 × 3</caption>\n",
       "<thead>\n",
       "\t<tr><th></th><th scope=col>section_id</th><th scope=col>paragraph_id</th><th scope=col>content</th></tr>\n",
       "\t<tr><th></th><th scope=col>&lt;int&gt;</th><th scope=col>&lt;int&gt;</th><th scope=col>&lt;chr&gt;</th></tr>\n",
       "</thead>\n",
       "<tbody>\n",
       "\t<tr><th scope=row>1</th><td>1</td><td>1</td><td>こんな夢を見た。                                                                                                                                                                                                                                                                                                                                                                                                                                                                                                                                                            </td></tr>\n",
       "\t<tr><th scope=row>2</th><td>1</td><td>2</td><td>腕組をして枕元に坐っていると、仰向に寝た女が、静かな声でもう死にますと云う。女は長い髪を枕に敷いて、輪郭の柔らかな瓜実顔をその中に横たえている。真白な頬の底に温かい血の色がほどよく差して、唇の色は無論赤い。とうてい死にそうには見えない。しかし女は静かな声で、もう死にますと判然云った。自分も確にこれは死ぬなと思った。そこで、そうかね、もう死ぬのかね、と上から覗き込むようにして聞いて見た。死にますとも、と云いながら、女はぱっちりと眼を開けた。大きな潤のある眼で、長い睫に包まれた中は、ただ一面に真黒であった。その真黒な眸の奥に、自分の姿が鮮に浮かんでいる。</td></tr>\n",
       "\t<tr><th scope=row>3</th><td>1</td><td>3</td><td>自分は透き徹るほど深く見えるこの黒眼の色沢を眺めて、これでも死ぬのかと思った。それで、ねんごろに枕の傍へ口を付けて、死ぬんじゃなかろうね、大丈夫だろうね、とまた聞き返した。すると女は黒い眼を眠そうに※たまま、やっぱり静かな声で、でも、死ぬんですもの、仕方がないわと云った。                                                                                                                                                                                                                                                                                            </td></tr>\n",
       "\t<tr><th scope=row>4</th><td>1</td><td>4</td><td>じゃ、私の顔が見えるかいと一心に聞くと、見えるかいって、そら、そこに、写ってるじゃありませんかと、にこりと笑って見せた。自分は黙って、顔を枕から離した。腕組をしながら、どうしても死ぬのかなと思った。                                                                                                                                                                                                                                                                                                                                                                      </td></tr>\n",
       "\t<tr><th scope=row>5</th><td>1</td><td>5</td><td>しばらくして、女がまたこう云った。                                                                                                                                                                                                                                                                                                                                                                                                                                                                                                                                          </td></tr>\n",
       "\t<tr><th scope=row>6</th><td>1</td><td>6</td><td>「死んだら、埋めて下さい。大きな真珠貝で穴を掘って。そうして天から落ちて来る星の破片を墓標に置いて下さい。そうして墓の傍に待っていて下さい。また逢いに来ますから」                                                                                                                                                                                                                                                                                                                                                                                                          </td></tr>\n",
       "</tbody>\n",
       "</table>\n"
      ],
      "text/latex": [
       "A data.frame: 6 × 3\n",
       "\\begin{tabular}{r|lll}\n",
       "  & section\\_id & paragraph\\_id & content\\\\\n",
       "  & <int> & <int> & <chr>\\\\\n",
       "\\hline\n",
       "\t1 & 1 & 1 & こんな夢を見た。                                                                                                                                                                                                                                                                                                                                                                                                                                                                                                                                                            \\\\\n",
       "\t2 & 1 & 2 & 腕組をして枕元に坐っていると、仰向に寝た女が、静かな声でもう死にますと云う。女は長い髪を枕に敷いて、輪郭の柔らかな瓜実顔をその中に横たえている。真白な頬の底に温かい血の色がほどよく差して、唇の色は無論赤い。とうてい死にそうには見えない。しかし女は静かな声で、もう死にますと判然云った。自分も確にこれは死ぬなと思った。そこで、そうかね、もう死ぬのかね、と上から覗き込むようにして聞いて見た。死にますとも、と云いながら、女はぱっちりと眼を開けた。大きな潤のある眼で、長い睫に包まれた中は、ただ一面に真黒であった。その真黒な眸の奥に、自分の姿が鮮に浮かんでいる。\\\\\n",
       "\t3 & 1 & 3 & 自分は透き徹るほど深く見えるこの黒眼の色沢を眺めて、これでも死ぬのかと思った。それで、ねんごろに枕の傍へ口を付けて、死ぬんじゃなかろうね、大丈夫だろうね、とまた聞き返した。すると女は黒い眼を眠そうに※たまま、やっぱり静かな声で、でも、死ぬんですもの、仕方がないわと云った。                                                                                                                                                                                                                                                                                            \\\\\n",
       "\t4 & 1 & 4 & じゃ、私の顔が見えるかいと一心に聞くと、見えるかいって、そら、そこに、写ってるじゃありませんかと、にこりと笑って見せた。自分は黙って、顔を枕から離した。腕組をしながら、どうしても死ぬのかなと思った。                                                                                                                                                                                                                                                                                                                                                                      \\\\\n",
       "\t5 & 1 & 5 & しばらくして、女がまたこう云った。                                                                                                                                                                                                                                                                                                                                                                                                                                                                                                                                          \\\\\n",
       "\t6 & 1 & 6 & 「死んだら、埋めて下さい。大きな真珠貝で穴を掘って。そうして天から落ちて来る星の破片を墓標に置いて下さい。そうして墓の傍に待っていて下さい。また逢いに来ますから」                                                                                                                                                                                                                                                                                                                                                                                                          \\\\\n",
       "\\end{tabular}\n"
      ],
      "text/markdown": [
       "\n",
       "A data.frame: 6 × 3\n",
       "\n",
       "| <!--/--> | section_id &lt;int&gt; | paragraph_id &lt;int&gt; | content &lt;chr&gt; |\n",
       "|---|---|---|---|\n",
       "| 1 | 1 | 1 | こんな夢を見た。                                                                                                                                                                                                                                                                                                                                                                                                                                                                                                                                                             |\n",
       "| 2 | 1 | 2 | 腕組をして枕元に坐っていると、仰向に寝た女が、静かな声でもう死にますと云う。女は長い髪を枕に敷いて、輪郭の柔らかな瓜実顔をその中に横たえている。真白な頬の底に温かい血の色がほどよく差して、唇の色は無論赤い。とうてい死にそうには見えない。しかし女は静かな声で、もう死にますと判然云った。自分も確にこれは死ぬなと思った。そこで、そうかね、もう死ぬのかね、と上から覗き込むようにして聞いて見た。死にますとも、と云いながら、女はぱっちりと眼を開けた。大きな潤のある眼で、長い睫に包まれた中は、ただ一面に真黒であった。その真黒な眸の奥に、自分の姿が鮮に浮かんでいる。 |\n",
       "| 3 | 1 | 3 | 自分は透き徹るほど深く見えるこの黒眼の色沢を眺めて、これでも死ぬのかと思った。それで、ねんごろに枕の傍へ口を付けて、死ぬんじゃなかろうね、大丈夫だろうね、とまた聞き返した。すると女は黒い眼を眠そうに※たまま、やっぱり静かな声で、でも、死ぬんですもの、仕方がないわと云った。                                                                                                                                                                                                                                                                                             |\n",
       "| 4 | 1 | 4 | じゃ、私の顔が見えるかいと一心に聞くと、見えるかいって、そら、そこに、写ってるじゃありませんかと、にこりと笑って見せた。自分は黙って、顔を枕から離した。腕組をしながら、どうしても死ぬのかなと思った。                                                                                                                                                                                                                                                                                                                                                                       |\n",
       "| 5 | 1 | 5 | しばらくして、女がまたこう云った。                                                                                                                                                                                                                                                                                                                                                                                                                                                                                                                                           |\n",
       "| 6 | 1 | 6 | 「死んだら、埋めて下さい。大きな真珠貝で穴を掘って。そうして天から落ちて来る星の破片を墓標に置いて下さい。そうして墓の傍に待っていて下さい。また逢いに来ますから」                                                                                                                                                                                                                                                                                                                                                                                                           |\n",
       "\n"
      ],
      "text/plain": [
       "  section_id paragraph_id\n",
       "1 1          1           \n",
       "2 1          2           \n",
       "3 1          3           \n",
       "4 1          4           \n",
       "5 1          5           \n",
       "6 1          6           \n",
       "  content                                                                                                                                                                                                                                                                                                                                                                                                                                                                                                                                                                     \n",
       "1 こんな夢を見た。                                                                                                                                                                                                                                                                                                                                                                                                                                                                                                                                                            \n",
       "2 腕組をして枕元に坐っていると、仰向に寝た女が、静かな声でもう死にますと云う。女は長い髪を枕に敷いて、輪郭の柔らかな瓜実顔をその中に横たえている。真白な頬の底に温かい血の色がほどよく差して、唇の色は無論赤い。とうてい死にそうには見えない。しかし女は静かな声で、もう死にますと判然云った。自分も確にこれは死ぬなと思った。そこで、そうかね、もう死ぬのかね、と上から覗き込むようにして聞いて見た。死にますとも、と云いながら、女はぱっちりと眼を開けた。大きな潤のある眼で、長い睫に包まれた中は、ただ一面に真黒であった。その真黒な眸の奥に、自分の姿が鮮に浮かんでいる。\n",
       "3 自分は透き徹るほど深く見えるこの黒眼の色沢を眺めて、これでも死ぬのかと思った。それで、ねんごろに枕の傍へ口を付けて、死ぬんじゃなかろうね、大丈夫だろうね、とまた聞き返した。すると女は黒い眼を眠そうに※たまま、やっぱり静かな声で、でも、死ぬんですもの、仕方がないわと云った。                                                                                                                                                                                                                                                                                            \n",
       "4 じゃ、私の顔が見えるかいと一心に聞くと、見えるかいって、そら、そこに、写ってるじゃありませんかと、にこりと笑って見せた。自分は黙って、顔を枕から離した。腕組をしながら、どうしても死ぬのかなと思った。                                                                                                                                                                                                                                                                                                                                                                      \n",
       "5 しばらくして、女がまたこう云った。                                                                                                                                                                                                                                                                                                                                                                                                                                                                                                                                          \n",
       "6 「死んだら、埋めて下さい。大きな真珠貝で穴を掘って。そうして天から落ちて来る星の破片を墓標に置いて下さい。そうして墓の傍に待っていて下さい。また逢いに来ますから」                                                                                                                                                                                                                                                                                                                                                                                                          "
      ]
     },
     "metadata": {},
     "output_type": "display_data"
    }
   ],
   "source": [
    "yume %>% head()"
   ]
  },
  {
   "cell_type": "code",
   "execution_count": 5,
   "metadata": {
    "ExecuteTime": {
     "end_time": "2019-07-08T02:41:23.011822Z",
     "start_time": "2019-07-08T02:41:20.514Z"
    }
   },
   "outputs": [
    {
     "data": {
      "image/png": "[encoded data removed]",
      "text/plain": [
       "Plot with title \"Histogram of paragraph length\""
      ]
     },
     "metadata": {
      "image/png": {
       "height": 420,
       "width": 420
      }
     },
     "output_type": "display_data"
    }
   ],
   "source": [
    "# 段落の長さの分布\n",
    "# str_lengt: 文字列の長さ\n",
    "yume[, 'content'] %>% str_length() %>% hist(breaks=25, xlab='Paragraph length', main='Histogram of paragraph length')"
   ]
  },
  {
   "cell_type": "code",
   "execution_count": 6,
   "metadata": {
    "ExecuteTime": {
     "end_time": "2019-07-08T02:41:23.057701Z",
     "start_time": "2019-07-08T02:41:20.521Z"
    }
   },
   "outputs": [],
   "source": [
    "# 各話ごとの段落の長さの分布を箱ひげ図で可視化する\n",
    "# 段落の長さを格納する\n",
    "yume['length'] = yume[, 'content'] %>% str_length()"
   ]
  },
  {
   "cell_type": "code",
   "execution_count": 7,
   "metadata": {
    "ExecuteTime": {
     "end_time": "2019-07-08T02:41:23.236222Z",
     "start_time": "2019-07-08T02:41:20.530Z"
    }
   },
   "outputs": [
    {
     "data": {
      "image/png": "[encoded data removed]",
      "text/plain": [
       "Plot with title \"Paragraph length of each section\""
      ]
     },
     "metadata": {
      "image/png": {
       "height": 420,
       "width": 420
      }
     },
     "output_type": "display_data"
    }
   ],
   "source": [
    "boxplot(length ~ section_id, data=yume, main='Paragraph length of each section')"
   ]
  },
  {
   "cell_type": "code",
   "execution_count": 8,
   "metadata": {
    "ExecuteTime": {
     "end_time": "2019-07-08T02:41:23.299054Z",
     "start_time": "2019-07-08T02:41:20.538Z"
    }
   },
   "outputs": [],
   "source": [
    "# 分析のため各話ごとに文章を結合する\n",
    "# group_by: データを集約する\n",
    "# summarise: データを特定の関数でまとめる\n",
    "sections = yume %>% group_by(section_id) %>% summarise(text = paste0(content, collapse=''))\n",
    "sections = as.data.frame(sections)\n"
   ]
  },
  {
   "cell_type": "code",
   "execution_count": 9,
   "metadata": {},
   "outputs": [
    {
     "data": {
      "text/html": [
       "<style>\n",
       ".list-inline {list-style: none; margin:0; padding: 0}\n",
       ".list-inline>li {display: inline-block}\n",
       ".list-inline>li:not(:last-child)::after {content: \"\\00b7\"; padding: 0 .5ex}\n",
       "</style>\n",
       "<ol class=list-inline><li>10</li><li>2</li></ol>\n"
      ],
      "text/latex": [
       "\\begin{enumerate*}\n",
       "\\item 10\n",
       "\\item 2\n",
       "\\end{enumerate*}\n"
      ],
      "text/markdown": [
       "1. 10\n",
       "2. 2\n",
       "\n",
       "\n"
      ],
      "text/plain": [
       "[1] 10  2"
      ]
     },
     "metadata": {},
     "output_type": "display_data"
    }
   ],
   "source": [
    "# データの形状を確認する\n",
    "dim(sections)"
   ]
  },
  {
   "cell_type": "code",
   "execution_count": 10,
   "metadata": {},
   "outputs": [
    {
     "data": {
      "text/html": [
       "<style>\n",
       ".list-inline {list-style: none; margin:0; padding: 0}\n",
       ".list-inline>li {display: inline-block}\n",
       ".list-inline>li:not(:last-child)::after {content: \"\\00b7\"; padding: 0 .5ex}\n",
       "</style>\n",
       "<ol class=list-inline><li>'section_id'</li><li>'text'</li></ol>\n"
      ],
      "text/latex": [
       "\\begin{enumerate*}\n",
       "\\item 'section\\_id'\n",
       "\\item 'text'\n",
       "\\end{enumerate*}\n"
      ],
      "text/markdown": [
       "1. 'section_id'\n",
       "2. 'text'\n",
       "\n",
       "\n"
      ],
      "text/plain": [
       "[1] \"section_id\" \"text\"      "
      ]
     },
     "metadata": {},
     "output_type": "display_data"
    }
   ],
   "source": [
    "colnames(sections)"
   ]
  },
  {
   "cell_type": "code",
   "execution_count": 11,
   "metadata": {
    "ExecuteTime": {
     "end_time": "2019-07-08T02:41:23.484558Z",
     "start_time": "2019-07-08T02:41:20.549Z"
    }
   },
   "outputs": [
    {
     "data": {
      "text/html": [
       "<style>\n",
       ".list-inline {list-style: none; margin:0; padding: 0}\n",
       ".list-inline>li {display: inline-block}\n",
       ".list-inline>li:not(:last-child)::after {content: \"\\00b7\"; padding: 0 .5ex}\n",
       "</style>\n",
       "<ol class=list-inline><li>1753</li><li>1564</li><li>1516</li><li>1532</li><li>1411</li><li>1603</li><li>1462</li><li>1678</li><li>1591</li><li>1727</li></ol>\n"
      ],
      "text/latex": [
       "\\begin{enumerate*}\n",
       "\\item 1753\n",
       "\\item 1564\n",
       "\\item 1516\n",
       "\\item 1532\n",
       "\\item 1411\n",
       "\\item 1603\n",
       "\\item 1462\n",
       "\\item 1678\n",
       "\\item 1591\n",
       "\\item 1727\n",
       "\\end{enumerate*}\n"
      ],
      "text/markdown": [
       "1. 1753\n",
       "2. 1564\n",
       "3. 1516\n",
       "4. 1532\n",
       "5. 1411\n",
       "6. 1603\n",
       "7. 1462\n",
       "8. 1678\n",
       "9. 1591\n",
       "10. 1727\n",
       "\n",
       "\n"
      ],
      "text/plain": [
       " [1] 1753 1564 1516 1532 1411 1603 1462 1678 1591 1727"
      ]
     },
     "metadata": {},
     "output_type": "display_data"
    }
   ],
   "source": [
    "# 各夜の長さ\n",
    "sections[, 'text'] %>% str_length() "
   ]
  },
  {
   "cell_type": "code",
   "execution_count": 12,
   "metadata": {},
   "outputs": [
    {
     "name": "stdout",
     "output_type": "stream",
     "text": [
      "to make data frame\n",
      "\n"
     ]
    }
   ],
   "source": [
    "# docMatrixDF: dataframeから単語を抽出\n",
    "\n",
    "count_noun = docMatrixDF(sections[,'text'], pos=c('名詞'))"
   ]
  },
  {
   "cell_type": "code",
   "execution_count": 13,
   "metadata": {},
   "outputs": [
    {
     "data": {
      "text/html": [
       "<table class=\"dataframe\">\n",
       "<caption>A matrix: 6 × 10 of type int</caption>\n",
       "<thead>\n",
       "\t<tr><th></th><th scope=col>ROW.1</th><th scope=col>ROW.2</th><th scope=col>ROW.3</th><th scope=col>ROW.4</th><th scope=col>ROW.5</th><th scope=col>ROW.6</th><th scope=col>ROW.7</th><th scope=col>ROW.8</th><th scope=col>ROW.9</th><th scope=col>ROW.10</th></tr>\n",
       "</thead>\n",
       "<tbody>\n",
       "\t<tr><th scope=row>あすこ</th><td>0</td><td>0</td><td>1</td><td>0</td><td>0</td><td>0</td><td>0</td><td>0</td><td>0</td><td>0</td></tr>\n",
       "\t<tr><th scope=row>あたり</th><td>1</td><td>0</td><td>0</td><td>0</td><td>0</td><td>0</td><td>1</td><td>0</td><td>0</td><td>0</td></tr>\n",
       "\t<tr><th scope=row>あっち</th><td>0</td><td>0</td><td>0</td><td>1</td><td>0</td><td>0</td><td>0</td><td>0</td><td>2</td><td>0</td></tr>\n",
       "\t<tr><th scope=row>あなた</th><td>1</td><td>0</td><td>0</td><td>0</td><td>0</td><td>0</td><td>0</td><td>0</td><td>0</td><td>0</td></tr>\n",
       "\t<tr><th scope=row>あれ</th><td>0</td><td>0</td><td>0</td><td>0</td><td>0</td><td>1</td><td>0</td><td>0</td><td>0</td><td>0</td></tr>\n",
       "\t<tr><th scope=row>いくつ</th><td>1</td><td>0</td><td>0</td><td>3</td><td>0</td><td>0</td><td>0</td><td>0</td><td>0</td><td>0</td></tr>\n",
       "</tbody>\n",
       "</table>\n"
      ],
      "text/latex": [
       "A matrix: 6 × 10 of type int\n",
       "\\begin{tabular}{r|llllllllll}\n",
       "  & ROW.1 & ROW.2 & ROW.3 & ROW.4 & ROW.5 & ROW.6 & ROW.7 & ROW.8 & ROW.9 & ROW.10\\\\\n",
       "\\hline\n",
       "\tあすこ & 0 & 0 & 1 & 0 & 0 & 0 & 0 & 0 & 0 & 0\\\\\n",
       "\tあたり & 1 & 0 & 0 & 0 & 0 & 0 & 1 & 0 & 0 & 0\\\\\n",
       "\tあっち & 0 & 0 & 0 & 1 & 0 & 0 & 0 & 0 & 2 & 0\\\\\n",
       "\tあなた & 1 & 0 & 0 & 0 & 0 & 0 & 0 & 0 & 0 & 0\\\\\n",
       "\tあれ & 0 & 0 & 0 & 0 & 0 & 1 & 0 & 0 & 0 & 0\\\\\n",
       "\tいくつ & 1 & 0 & 0 & 3 & 0 & 0 & 0 & 0 & 0 & 0\\\\\n",
       "\\end{tabular}\n"
      ],
      "text/markdown": [
       "\n",
       "A matrix: 6 × 10 of type int\n",
       "\n",
       "| <!--/--> | ROW.1 | ROW.2 | ROW.3 | ROW.4 | ROW.5 | ROW.6 | ROW.7 | ROW.8 | ROW.9 | ROW.10 |\n",
       "|---|---|---|---|---|---|---|---|---|---|---|\n",
       "| あすこ | 0 | 0 | 1 | 0 | 0 | 0 | 0 | 0 | 0 | 0 |\n",
       "| あたり | 1 | 0 | 0 | 0 | 0 | 0 | 1 | 0 | 0 | 0 |\n",
       "| あっち | 0 | 0 | 0 | 1 | 0 | 0 | 0 | 0 | 2 | 0 |\n",
       "| あなた | 1 | 0 | 0 | 0 | 0 | 0 | 0 | 0 | 0 | 0 |\n",
       "| あれ | 0 | 0 | 0 | 0 | 0 | 1 | 0 | 0 | 0 | 0 |\n",
       "| いくつ | 1 | 0 | 0 | 3 | 0 | 0 | 0 | 0 | 0 | 0 |\n",
       "\n"
      ],
      "text/plain": [
       "       ROW.1 ROW.2 ROW.3 ROW.4 ROW.5 ROW.6 ROW.7 ROW.8 ROW.9 ROW.10\n",
       "あすこ 0     0     1     0     0     0     0     0     0     0     \n",
       "あたり 1     0     0     0     0     0     1     0     0     0     \n",
       "あっち 0     0     0     1     0     0     0     0     2     0     \n",
       "あなた 1     0     0     0     0     0     0     0     0     0     \n",
       "あれ   0     0     0     0     0     1     0     0     0     0     \n",
       "いくつ 1     0     0     3     0     0     0     0     0     0     "
      ]
     },
     "metadata": {},
     "output_type": "display_data"
    }
   ],
   "source": [
    "count_noun %>% head()"
   ]
  },
  {
   "cell_type": "code",
   "execution_count": 14,
   "metadata": {},
   "outputs": [],
   "source": [
    "# 全体を集計する\n",
    "freq_noun = count_noun %>% rowSums()"
   ]
  },
  {
   "cell_type": "code",
   "execution_count": 15,
   "metadata": {},
   "outputs": [
    {
     "data": {
      "image/png": "[encoded data removed]",
      "text/plain": [
       "Plot with title \"Distribution of noun frequency\""
      ]
     },
     "metadata": {
      "image/png": {
       "height": 420,
       "width": 420
      }
     },
     "output_type": "display_data"
    }
   ],
   "source": [
    "# 全体を集計する\n",
    "freq_noun %>% sort(decreasing=T) %>% plot(main='Distribution of noun frequency', xlab='Rank', ylab='Frequency')"
   ]
  },
  {
   "cell_type": "code",
   "execution_count": 16,
   "metadata": {},
   "outputs": [
    {
     "data": {
      "image/png": "[encoded data removed]",
      "text/plain": [
       "Plot with title \"Distribution of noun frequency\""
      ]
     },
     "metadata": {
      "image/png": {
       "height": 420,
       "width": 420
      }
     },
     "output_type": "display_data"
    }
   ],
   "source": [
    "freq_noun %>% sort(decreasing=T) %>% plot(main='Distribution of noun frequency', xlab='Rank (log)', ylab='Frequency (log)', log='xy')"
   ]
  },
  {
   "cell_type": "code",
   "execution_count": 17,
   "metadata": {},
   "outputs": [
    {
     "data": {
      "image/png": "[encoded data removed]",
      "text/plain": [
       "Plot with title \"Normal distribution (n = 10000)\""
      ]
     },
     "metadata": {
      "image/png": {
       "height": 420,
       "width": 420
      }
     },
     "output_type": "display_data"
    },
    {
     "data": {
      "image/png": "[encoded data removed]",
      "text/plain": [
       "Plot with title \"Normal distribution (n = 10000)\""
      ]
     },
     "metadata": {
      "image/png": {
       "height": 420,
       "width": 420
      }
     },
     "output_type": "display_data"
    }
   ],
   "source": [
    "# cf. Noraml Distribution\n",
    "dist = rnorm(10000)\n",
    "dist %>% hist(100, main='Normal distribution (n = 10000)')\n",
    "dist %>% sort(decreasing=T) %>% plot(main='Normal distribution (n = 10000)', xlab='Rank', ylab='Value')"
   ]
  },
  {
   "cell_type": "code",
   "execution_count": 18,
   "metadata": {},
   "outputs": [
    {
     "data": {
      "image/png": "[encoded data removed]",
      "text/plain": [
       "Plot with title \"Poisson distribution (n = 10000, lambda=1)\""
      ]
     },
     "metadata": {
      "image/png": {
       "height": 420,
       "width": 420
      }
     },
     "output_type": "display_data"
    },
    {
     "data": {
      "image/png": "[encoded data removed]",
      "text/plain": [
       "Plot with title \"Poisson distribution (n = 10000, lambda=1)\""
      ]
     },
     "metadata": {
      "image/png": {
       "height": 420,
       "width": 420
      }
     },
     "output_type": "display_data"
    }
   ],
   "source": [
    "# cf. Poisson Distribution\n",
    "dist = rpois(10000, 1) \n",
    "dist %>% hist(main='Poisson distribution (n = 10000, lambda=1)')\n",
    "dist %>% sort(decreasing=T) %>% plot(main='Poisson distribution (n = 10000, lambda=1)', xlab='Rank', ylab='Value')"
   ]
  },
  {
   "cell_type": "code",
   "execution_count": 28,
   "metadata": {},
   "outputs": [
    {
     "data": {
      "image/png": "[encoded data removed]",
      "text/plain": [
       "Plot with title \"Top 30 nouns\""
      ]
     },
     "metadata": {
      "image/png": {
       "height": 420,
       "width": 420
      }
     },
     "output_type": "display_data"
    }
   ],
   "source": [
    "freq_noun %>% sort() %>% tail(30) %>% barplot(horiz=T, las=1, main='Top 30 nouns', xlab='Frequency', cex.names=0.9)"
   ]
  },
  {
   "cell_type": "code",
   "execution_count": 20,
   "metadata": {},
   "outputs": [],
   "source": [
    "# stopwords\n",
    "stopwords = c('よう', '上', '中',  'もの', 'の', 'それ', '一', '事', '何','ん', 'どこ')"
   ]
  },
  {
   "cell_type": "code",
   "execution_count": 21,
   "metadata": {},
   "outputs": [
    {
     "data": {
      "image/png": "[encoded data removed]",
      "text/plain": [
       "Plot with title \"Top 30 nouns\""
      ]
     },
     "metadata": {
      "image/png": {
       "height": 420,
       "width": 420
      }
     },
     "output_type": "display_data"
    }
   ],
   "source": [
    "# tableなので以下の書き方にする\n",
    "freq_noun[!names(freq_noun) %in% stopwords] %>% \n",
    "    sort() %>% \n",
    "    tail(20) %>% \n",
    "    barplot(horiz=T, las=1, main='Top 30 nouns', xlab='Frequency')"
   ]
  },
  {
   "cell_type": "markdown",
   "metadata": {},
   "source": [
    "### TF-IDF\n",
    "\n",
    "$$\n",
    "TF_{i,j} = \\frac{n_{i,j}}{\\sum{_{k}n_{k,j}}} = \\frac{文書 d_j における単語 t_i  の頻度}{文書d中の総単語数}\n",
    "$$\n",
    "\n",
    "$$\n",
    "IDF{i,j} = \\log{\\frac{|D|}{|{d:d \\ni t_i}|}} = \\log{(1 / \\frac{ 単語t_iを含む文書数}{ 総文書数})}\n",
    "$$\n",
    "\n",
    "$$\n",
    "TFIDF_{i,j} = TF_{i,j} \\times IDF_{i,j}\n",
    "$$\n"
   ]
  },
  {
   "cell_type": "code",
   "execution_count": 22,
   "metadata": {},
   "outputs": [],
   "source": [
    "# tf, idfをそれぞれ求める関数\n",
    "\n",
    "tf = function(df){\n",
    "    return(t(t(df) / colSums(df)))\n",
    "}\n",
    "\n",
    "idf = function(df){\n",
    "    doc_sums = (df > 0) %>% rowSums() + 1\n",
    "    return(log2(ncol(df)/doc_sums))\n",
    "}"
   ]
  },
  {
   "cell_type": "code",
   "execution_count": 23,
   "metadata": {},
   "outputs": [
    {
     "data": {
      "text/html": [
       "<table class=\"dataframe\">\n",
       "<caption>A matrix: 6 × 10 of type int</caption>\n",
       "<thead>\n",
       "\t<tr><th></th><th scope=col>ROW.1</th><th scope=col>ROW.2</th><th scope=col>ROW.3</th><th scope=col>ROW.4</th><th scope=col>ROW.5</th><th scope=col>ROW.6</th><th scope=col>ROW.7</th><th scope=col>ROW.8</th><th scope=col>ROW.9</th><th scope=col>ROW.10</th></tr>\n",
       "</thead>\n",
       "<tbody>\n",
       "\t<tr><th scope=row>あすこ</th><td>0</td><td>0</td><td>1</td><td>0</td><td>0</td><td>0</td><td>0</td><td>0</td><td>0</td><td>0</td></tr>\n",
       "\t<tr><th scope=row>あたり</th><td>1</td><td>0</td><td>0</td><td>0</td><td>0</td><td>0</td><td>1</td><td>0</td><td>0</td><td>0</td></tr>\n",
       "\t<tr><th scope=row>あっち</th><td>0</td><td>0</td><td>0</td><td>1</td><td>0</td><td>0</td><td>0</td><td>0</td><td>2</td><td>0</td></tr>\n",
       "\t<tr><th scope=row>あなた</th><td>1</td><td>0</td><td>0</td><td>0</td><td>0</td><td>0</td><td>0</td><td>0</td><td>0</td><td>0</td></tr>\n",
       "\t<tr><th scope=row>あれ</th><td>0</td><td>0</td><td>0</td><td>0</td><td>0</td><td>1</td><td>0</td><td>0</td><td>0</td><td>0</td></tr>\n",
       "\t<tr><th scope=row>いくつ</th><td>1</td><td>0</td><td>0</td><td>3</td><td>0</td><td>0</td><td>0</td><td>0</td><td>0</td><td>0</td></tr>\n",
       "</tbody>\n",
       "</table>\n"
      ],
      "text/latex": [
       "A matrix: 6 × 10 of type int\n",
       "\\begin{tabular}{r|llllllllll}\n",
       "  & ROW.1 & ROW.2 & ROW.3 & ROW.4 & ROW.5 & ROW.6 & ROW.7 & ROW.8 & ROW.9 & ROW.10\\\\\n",
       "\\hline\n",
       "\tあすこ & 0 & 0 & 1 & 0 & 0 & 0 & 0 & 0 & 0 & 0\\\\\n",
       "\tあたり & 1 & 0 & 0 & 0 & 0 & 0 & 1 & 0 & 0 & 0\\\\\n",
       "\tあっち & 0 & 0 & 0 & 1 & 0 & 0 & 0 & 0 & 2 & 0\\\\\n",
       "\tあなた & 1 & 0 & 0 & 0 & 0 & 0 & 0 & 0 & 0 & 0\\\\\n",
       "\tあれ & 0 & 0 & 0 & 0 & 0 & 1 & 0 & 0 & 0 & 0\\\\\n",
       "\tいくつ & 1 & 0 & 0 & 3 & 0 & 0 & 0 & 0 & 0 & 0\\\\\n",
       "\\end{tabular}\n"
      ],
      "text/markdown": [
       "\n",
       "A matrix: 6 × 10 of type int\n",
       "\n",
       "| <!--/--> | ROW.1 | ROW.2 | ROW.3 | ROW.4 | ROW.5 | ROW.6 | ROW.7 | ROW.8 | ROW.9 | ROW.10 |\n",
       "|---|---|---|---|---|---|---|---|---|---|---|\n",
       "| あすこ | 0 | 0 | 1 | 0 | 0 | 0 | 0 | 0 | 0 | 0 |\n",
       "| あたり | 1 | 0 | 0 | 0 | 0 | 0 | 1 | 0 | 0 | 0 |\n",
       "| あっち | 0 | 0 | 0 | 1 | 0 | 0 | 0 | 0 | 2 | 0 |\n",
       "| あなた | 1 | 0 | 0 | 0 | 0 | 0 | 0 | 0 | 0 | 0 |\n",
       "| あれ | 0 | 0 | 0 | 0 | 0 | 1 | 0 | 0 | 0 | 0 |\n",
       "| いくつ | 1 | 0 | 0 | 3 | 0 | 0 | 0 | 0 | 0 | 0 |\n",
       "\n"
      ],
      "text/plain": [
       "       ROW.1 ROW.2 ROW.3 ROW.4 ROW.5 ROW.6 ROW.7 ROW.8 ROW.9 ROW.10\n",
       "あすこ 0     0     1     0     0     0     0     0     0     0     \n",
       "あたり 1     0     0     0     0     0     1     0     0     0     \n",
       "あっち 0     0     0     1     0     0     0     0     2     0     \n",
       "あなた 1     0     0     0     0     0     0     0     0     0     \n",
       "あれ   0     0     0     0     0     1     0     0     0     0     \n",
       "いくつ 1     0     0     3     0     0     0     0     0     0     "
      ]
     },
     "metadata": {},
     "output_type": "display_data"
    }
   ],
   "source": [
    "count_noun %>% head()"
   ]
  },
  {
   "cell_type": "code",
   "execution_count": 24,
   "metadata": {},
   "outputs": [],
   "source": [
    "tfidf= tf(count_noun) * idf(count_noun) "
   ]
  },
  {
   "cell_type": "code",
   "execution_count": 25,
   "metadata": {},
   "outputs": [
    {
     "data": {
      "image/png": "[encoded data removed]",
      "text/plain": [
       "Plot with title \"\"",
       "Plot with title \"\"",
       "Plot with title \"\"",
       "Plot with title \"\"",
       "Plot with title \"\"",
       "Plot with title \"\"",
       "Plot with title \"\"",
       "Plot with title \"\"",
       "Plot with title \"\"",
       "Plot with title \"\""
      ]
     },
     "metadata": {
      "image/png": {
       "height": 420,
       "width": 420
      }
     },
     "output_type": "display_data"
    }
   ],
   "source": [
    "par(mfrow=c(2,5)) \n",
    "\n",
    "for(i in 1:10){\n",
    "tfidf[,i] %>% \n",
    "    sort() %>% \n",
    "    tail(10)  %>%  barplot(horiz=T, las=2, main=character(i))\n",
    "}\n"
   ]
  },
  {
   "cell_type": "code",
   "execution_count": 26,
   "metadata": {},
   "outputs": [],
   "source": [
    "# 図表設定を初期化\n",
    "par(mfrow=c(1,1)) "
   ]
  }
 ],
 "metadata": {
  "kernelspec": {
   "display_name": "R",
   "language": "R",
   "name": "ir"
  },
  "language_info": {
   "codemirror_mode": "r",
   "file_extension": ".r",
   "mimetype": "text/x-r-source",
   "name": "R",
   "pygments_lexer": "r",
   "version": "4.2.0"
  }
 },
 "nbformat": 4,
 "nbformat_minor": 4
}
